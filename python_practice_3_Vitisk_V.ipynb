{
 "cells": [
  {
   "cell_type": "markdown",
   "metadata": {
    "id": "qDEi2Pi-4yUC"
   },
   "source": [
    "# I. Оператори порівняння та логічні оператори. Умови."
   ]
  },
  {
   "cell_type": "markdown",
   "metadata": {
    "id": "3v8D4Dkm43Ua"
   },
   "source": [
    "1. Створіть цілочисленну змінну зі своїм щасливим або улюбленим числом. Напишіть код, який би автоматизовував наступну задачу.\n",
    "\n",
    "Якщо число парне, помножте його на 2 та виведіть результат на екран.\n",
    "\n",
    "Але якщо число непарне, помножте його на 3 та додайте 1 і виведіть на екран."
   ]
  },
  {
   "cell_type": "code",
   "execution_count": 3,
   "metadata": {
    "id": "dlVjc-Nu4bmb"
   },
   "outputs": [
    {
     "name": "stdout",
     "output_type": "stream",
     "text": [
      "120608\n"
     ]
    }
   ],
   "source": [
    "lucky_num = 60304\n",
    "if lucky_num%2==0:\n",
    "    lucky_num = lucky_num*2\n",
    "else:\n",
    "    lucky_num = lucky_num*3+1\n",
    "print(lucky_num)"
   ]
  },
  {
   "cell_type": "markdown",
   "metadata": {
    "id": "H669P0QK5BI_"
   },
   "source": [
    "2. Створіть змінну, що посилається на список. Якщо список пустий, додайте будь-який елемент у кінець списку. Якщо ж ні, то нічого не робіть."
   ]
  },
  {
   "cell_type": "code",
   "execution_count": 12,
   "metadata": {
    "id": "ecWlfra45f6E"
   },
   "outputs": [
    {
     "data": {
      "text/plain": "['Not empty']"
     },
     "execution_count": 12,
     "metadata": {},
     "output_type": "execute_result"
    }
   ],
   "source": [
    "test_list = []\n",
    "if not test_list:\n",
    "    test_list.append(\"Not empty\")\n",
    "\n",
    "test_list"
   ]
  },
  {
   "cell_type": "markdown",
   "metadata": {
    "id": "h9Y3cMUd5h85"
   },
   "source": [
    "3. Створіть рядок зі своїм імʼям латинкою. Напишіть код, який би автоматизовував наступну задачу.\n",
    "\n",
    "Якщо в імені є літера \"а\"\n",
    " або \"i\", Виведіть на екран повідомлення \"A or I is in the name\".\n",
    "\n",
    "\n",
    "\n",
    "Якщо в імені є літери \"o\" та \"n\", Виведіть на екран повідомлення \"O and N is in the name\".\n",
    "\n",
    "Також якщо в імені немає літери \"о\", але є \"n\", Виведіть на екран повідомлення \"Only N is in the name\".\n",
    "\n",
    "В решті випадків виведіть на екран повідомлення \"There is no N in the name, but there might be O\".\n",
    "\n",
    "Зверніть увагу, що, наприклад, для імені \"Antonina\" буде виведено два повідомлення."
   ]
  },
  {
   "cell_type": "code",
   "execution_count": 6,
   "metadata": {
    "id": "bUH4LUx35u52"
   },
   "outputs": [
    {
     "name": "stdout",
     "output_type": "stream",
     "text": [
      "A or I is in the name\n",
      "There is no N in the name, but there might be O\n"
     ]
    }
   ],
   "source": [
    "my_name = \"Vladyslav\"\n",
    "if \"a\" or \"i\" in my_name.lower(): ## using .lower() in case \"a\" or \"i\" capital\n",
    "    print(\"A or I is in the name\")\n",
    "if \"o\" and \"n\" in my_name.lower():\n",
    "    print(\"O and N is in the name\")\n",
    "elif (\"o\" not in my_name.lower()) and (\"n\" in my_name.lower()):\n",
    "    print(\"Only N is in the name\")\n",
    "else:\n",
    "    print(\"There is no N in the name, but there might be O\")"
   ]
  },
  {
   "cell_type": "markdown",
   "metadata": {
    "id": "wPCXJv4354cU"
   },
   "source": [
    "# II. Comprehensions."
   ]
  },
  {
   "cell_type": "markdown",
   "metadata": {
    "id": "jULLW5jN55Pw"
   },
   "source": [
    "4. Створіть список, використовуючи if (не if-else), range та comprehension."
   ]
  },
  {
   "cell_type": "code",
   "execution_count": 17,
   "metadata": {
    "id": "mlZalnVC6W3F"
   },
   "outputs": [
    {
     "data": {
      "text/plain": "['', '1', '22', '333', '4444', '666666', '7777777', '88888888', '999999999']"
     },
     "execution_count": 17,
     "metadata": {},
     "output_type": "execute_result"
    }
   ],
   "source": [
    "test_list = [str(i)*i for i in range(10) if i!=5]\n",
    "test_list"
   ]
  },
  {
   "cell_type": "markdown",
   "metadata": {
    "id": "LqhEQ4JW6XcC"
   },
   "source": [
    "5. Створіть словник, використовуючи dict comprehension, що містить if else. Коли слід використовувати comprehensions, а коли їх слід уникати?"
   ]
  },
  {
   "cell_type": "code",
   "execution_count": 19,
   "metadata": {
    "id": "1yVaFbOs6hta"
   },
   "outputs": [
    {
     "data": {
      "text/plain": "{0: '',\n 1: '1',\n 2: '22',\n 3: '333',\n 4: '4444',\n 5: \"It's kinda magic\",\n 6: '666666',\n 7: '7777777',\n 8: '88888888',\n 9: '999999999'}"
     },
     "execution_count": 19,
     "metadata": {},
     "output_type": "execute_result"
    }
   ],
   "source": [
    "test_dict = {i: str(i)*i if i!=5 else \"It's kinda magic\" for i in range(10)}\n",
    "test_dict"
   ]
  },
  {
   "cell_type": "markdown",
   "metadata": {
    "id": "wbkzNhKq6hzz"
   },
   "source": [
    "Оскільки синтаксис пайтону досить наближений до звичайної англійської мови то використання comprehensions може взагалі перетворити вираз на текст,\n",
    "втім його варто використовувати тільки у випадках коротких виразів, щоб код залишався читабельним"
   ]
  },
  {
   "cell_type": "markdown",
   "metadata": {
    "id": "ZlqB8G3G6lHP"
   },
   "source": [
    "6. Створіть список з рядками та запишіть його у змінну. Створіть ще один список на основі попереднього, де кожен рядок буде містити тільки три перших заглавних символи. Наприклад: ['hello', 'i', 'dont', 'care'] -> ['HEL', 'I', 'DON', 'CAR']. Використання comprehensions обовʼязкове."
   ]
  },
  {
   "cell_type": "code",
   "execution_count": 20,
   "metadata": {
    "id": "nw6rz0bR60VC"
   },
   "outputs": [
    {
     "data": {
      "text/plain": "['HEL', 'I', 'DON', 'CAR']"
     },
     "execution_count": 20,
     "metadata": {},
     "output_type": "execute_result"
    }
   ],
   "source": [
    "base = ['hello', 'i', 'dont', 'care']\n",
    "three_cap = [x.upper()[:3] for x in base]\n",
    "three_cap"
   ]
  },
  {
   "cell_type": "markdown",
   "metadata": {
    "id": "Tj573IAH64Fz"
   },
   "source": [
    "# III. Цикли."
   ]
  },
  {
   "cell_type": "markdown",
   "metadata": {
    "id": "tN_33xdE65H5"
   },
   "source": [
    "7. Продемонструйте роботу циклу while. Не можна використовувати True для запуску циклу, щоб уникнути безкінечного циклу!"
   ]
  },
  {
   "cell_type": "code",
   "execution_count": null,
   "metadata": {
    "id": "Kd9FO6yG63P5"
   },
   "outputs": [],
   "source": [
    "##while(!False) - заборонено ж тільки while(True)...\n",
    "\n",
    "curr_num = 0\n",
    "count_odd = 0\n",
    "while(curr_num!=10):\n",
    "    if(curr_num%2==1):\n",
    "        count_odd+=1\n",
    "    curr_num+=1"
   ]
  },
  {
   "cell_type": "markdown",
   "metadata": {
    "id": "x2CmfZO-7pW0"
   },
   "source": [
    "8. Напишіть програму, яка виведе на екран непарні числа в діапазоні від 0 до 20 включно."
   ]
  },
  {
   "cell_type": "code",
   "execution_count": 21,
   "metadata": {
    "id": "aCSRYA6s7tkF"
   },
   "outputs": [
    {
     "name": "stdout",
     "output_type": "stream",
     "text": [
      "1\n",
      "3\n",
      "5\n",
      "7\n",
      "9\n",
      "11\n",
      "13\n",
      "15\n",
      "17\n",
      "19\n"
     ]
    }
   ],
   "source": [
    "## лол, виявляється я виконуючи 7 випадково зробив 8\n",
    "curr_num = 0\n",
    "\n",
    "while(curr_num<=20):\n",
    "    if(curr_num%2==1):\n",
    "        print(curr_num)\n",
    "    curr_num+=1"
   ]
  },
  {
   "cell_type": "markdown",
   "metadata": {
    "id": "MDWNocZD7t_B"
   },
   "source": [
    "9. Створіть список з елементами булевого типу або None. Використовуючи цикли, отримайте в результаті список з кортежами, де перший елемент кортежу - індекс(ціле число), а другий елемент - відповідне значення з першого списку.\n",
    "\n",
    "Наприклад, [True, True, None, False] -> [(0, True), (1, True), (2, None), (3, False)]"
   ]
  },
  {
   "cell_type": "code",
   "execution_count": 24,
   "metadata": {
    "id": "0EUyjMdp7yfh"
   },
   "outputs": [
    {
     "data": {
      "text/plain": "[(0, True), (1, True), (2, None), (3, False)]"
     },
     "execution_count": 24,
     "metadata": {},
     "output_type": "execute_result"
    }
   ],
   "source": [
    "boolean_list = [True, True, None, False]\n",
    "res = []\n",
    "counter = 0\n",
    "while(counter<len(boolean_list)):\n",
    "    res.append((counter, boolean_list[counter]))\n",
    "    counter+=1\n",
    "res"
   ]
  },
  {
   "cell_type": "markdown",
   "metadata": {
    "id": "-6XUqlcG7zKs"
   },
   "source": [
    "10. Створіть словник, де ключі - назви книжок, а значення - їхня кількість у наявності в Вашій міні-бібліотеці. Бібліотека має містити щонайменше 6 книжок (6 пар значень у словнику) і щонайбільше 10 (пар значень). Використовуючи цикли, оновіть словник (не створюйте новий) так, щоби кількість книг у наявності збільшилося на 5 кожної книги. Наприклад,\n",
    "{'It': 3, 'Fault stars': 10, 'Bible': 17, 'Psychological romance': 4, 'Harry Potter': 13} -> {'It': 8, 'Fault stars': 15, 'Bible': 22, 'Psychological romance': 9, 'Harry Potter': 18}"
   ]
  },
  {
   "cell_type": "code",
   "execution_count": 25,
   "metadata": {
    "id": "Ceoj9wwb791q"
   },
   "outputs": [
    {
     "data": {
      "text/plain": "{'It': 8,\n 'Fault stars': 15,\n 'Bible': 22,\n 'Psychological romance': 9,\n 'Harry Potter': 18}"
     },
     "execution_count": 25,
     "metadata": {},
     "output_type": "execute_result"
    }
   ],
   "source": [
    "bookshelf = {'It': 3,\n",
    "             'Fault stars': 10,\n",
    "             'Bible': 17,\n",
    "             'Psychological romance': 4,\n",
    "             'Harry Potter': 13}\n",
    "for book in bookshelf:\n",
    "    bookshelf[book]+=5\n",
    "bookshelf"
   ]
  },
  {
   "cell_type": "markdown",
   "metadata": {
    "id": "QLzyJM288AC7"
   },
   "source": [
    "11. Визначте цілочислену змінну n, що належить проміжку від 4 до 10 включно. Використовуючи цикли, виведіть в консоль наступний патерн.\n",
    "\n",
    "#\n",
    "##\n",
    "###\n",
    "####\n",
    "\n",
    "... #*n\n"
   ]
  },
  {
   "cell_type": "code",
   "execution_count": 15,
   "metadata": {
    "id": "KOpng87s8Duz"
   },
   "outputs": [
    {
     "name": "stdout",
     "output_type": "stream",
     "text": [
      "\n",
      "#\n",
      "##\n",
      "###\n",
      "####\n",
      "#####\n",
      "######\n",
      "#######\n",
      "########\n"
     ]
    }
   ],
   "source": [
    "n = 8\n",
    "for i in range(n+1):\n",
    "    print(\"#\"*i)"
   ]
  },
  {
   "cell_type": "markdown",
   "metadata": {
    "id": "_bd-bqAT8EHn"
   },
   "source": [
    "12. Гра \"Нумо вгадай\".\n",
    "Розробіть просту гру, де користувач має вгадати випадкове число від 1 до 100. Для генерації випадкового числа використовуйте функцію random.randint(a, b) (тут a та b включно). Для отримання числа з консолі використовуйте функцію input(), результат якої обовʼязково явно приведіть до типу int.\n",
    "\n",
    "Підказка: використовуйте цикл while та умови if-else, щоб повідомити користувачу піказки (напр. \"Більше\", \"Менше\") поки користувач не вгадає. По завершенню виведіть кількість спроб, які знадобилися для вгадування."
   ]
  },
  {
   "cell_type": "code",
   "execution_count": 2,
   "metadata": {
    "id": "IK9nnxFK8Hkl"
   },
   "outputs": [
    {
     "name": "stdin",
     "output_type": "stream",
     "text": [
      "Make your guess:  50\n"
     ]
    },
    {
     "name": "stdout",
     "output_type": "stream",
     "text": [
      "Try bigger value\n"
     ]
    },
    {
     "name": "stdin",
     "output_type": "stream",
     "text": [
      "Make your guess:  75\n"
     ]
    },
    {
     "name": "stdout",
     "output_type": "stream",
     "text": [
      "Try lower value\n"
     ]
    },
    {
     "name": "stdin",
     "output_type": "stream",
     "text": [
      "Make your guess:  62\n"
     ]
    },
    {
     "name": "stdout",
     "output_type": "stream",
     "text": [
      "Try bigger value\n"
     ]
    },
    {
     "name": "stdin",
     "output_type": "stream",
     "text": [
      "Make your guess:  69\n"
     ]
    },
    {
     "name": "stdout",
     "output_type": "stream",
     "text": [
      "Try bigger value\n"
     ]
    },
    {
     "name": "stdin",
     "output_type": "stream",
     "text": [
      "Make your guess:  72\n"
     ]
    },
    {
     "name": "stdout",
     "output_type": "stream",
     "text": [
      "Congratz! You spend  5  tries to guess number  72\n"
     ]
    }
   ],
   "source": [
    "import random\n",
    "a = 1\n",
    "b = 100\n",
    "rand_value = random.randint(a, b)\n",
    "current_guess = -1\n",
    "step_counter = 0\n",
    "while current_guess!=rand_value:\n",
    "    step_counter+=1\n",
    "    current_guess = int(input(\"Make your guess: \"))\n",
    "    if current_guess>rand_value:\n",
    "        print(\"Try lower value\")\n",
    "    elif current_guess<rand_value:\n",
    "        print(\"Try bigger value\")\n",
    "print(\"Congratz! You spend \", step_counter,\n",
    "      \" tries to guess number \", rand_value)"
   ]
  },
  {
   "cell_type": "markdown",
   "metadata": {
    "id": "PXoXWb7Z8IGi"
   },
   "source": [
    "# Вітаю! Ви велика(ий) молодець, що впоралась(вся). Похваліть себе та побалуйте чимось приємним. Я Вами пишаюся."
   ]
  },
  {
   "cell_type": "code",
   "execution_count": null,
   "outputs": [],
   "source": [],
   "metadata": {
    "collapsed": false
   }
  }
 ],
 "metadata": {
  "colab": {
   "provenance": []
  },
  "kernelspec": {
   "display_name": "Python 3 (ipykernel)",
   "language": "python",
   "name": "python3"
  },
  "language_info": {
   "codemirror_mode": {
    "name": "ipython",
    "version": 3
   },
   "file_extension": ".py",
   "mimetype": "text/x-python",
   "name": "python",
   "nbconvert_exporter": "python",
   "pygments_lexer": "ipython3",
   "version": "3.10.0"
  }
 },
 "nbformat": 4,
 "nbformat_minor": 4
}
