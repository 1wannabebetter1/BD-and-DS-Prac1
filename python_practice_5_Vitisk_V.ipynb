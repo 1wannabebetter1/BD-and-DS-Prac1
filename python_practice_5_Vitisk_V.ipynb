{
 "nbformat": 4,
 "nbformat_minor": 0,
 "metadata": {
  "colab": {
   "provenance": []
  },
  "kernelspec": {
   "name": "python3",
   "display_name": "Python 3"
  },
  "language_info": {
   "name": "python"
  }
 },
 "cells": [
  {
   "cell_type": "markdown",
   "source": [
    "# I. OOP"
   ],
   "metadata": {
    "id": "5qV_sehzFCTp"
   }
  },
  {
   "cell_type": "markdown",
   "source": [
    "1. (6б). Створіть клас Animal, додайте три атрибути, один з яких має значення за замовчуванням та два методи на свій розсуд."
   ],
   "metadata": {
    "id": "tx_U_hOALyfg"
   }
  },
  {
   "cell_type": "code",
   "source": [
    "class Cat:\n",
    "    def __init__(self, name, age, coolness_level=12):\n",
    "        self.name = name\n",
    "        self.age = age\n",
    "        self.coolness_level=coolness_level ## out of ten\n",
    "\n",
    "    def meow(self):\n",
    "        print(\"Meow!\")\n",
    "\n",
    "    def about_me(self):\n",
    "        result = \"My name is \" + self.name + \" and I'm \" + str(self.age) + \" y. o.\"\n",
    "\n",
    "        if self.coolness_level > 10 :\n",
    "            result = result + \" Also I'm mega cool\"\n",
    "        elif self.coolness_level > 6:\n",
    "            result = result + \" Also I'm super cool\"\n",
    "        else:\n",
    "            result = result + \" Also I'm cool\""
   ],
   "metadata": {
    "id": "-Vf895KaL88N"
   },
   "execution_count": 6,
   "outputs": []
  },
  {
   "cell_type": "markdown",
   "source": [
    "2. (2б). Створіть два обʼєкти цього класу, де один з обʼєктів створюється із дефолтним значенням атрибуту. На одному обʼєкті отримайте значення його атрибуту, а на іншому викличте один з його методів."
   ],
   "metadata": {
    "id": "X_UlOMB0L93w"
   }
  },
  {
   "cell_type": "code",
   "source": [
    "Robert = Cat(\"Robert\", 3)\n",
    "print(Robert.coolness_level)\n",
    "Whiskey = Cat(\"Whiskey\", 10, 9)\n",
    "Whiskey.meow()"
   ],
   "metadata": {
    "id": "7gBu0ESOMCpG"
   },
   "execution_count": 7,
   "outputs": [
    {
     "name": "stdout",
     "output_type": "stream",
     "text": [
      "12\n",
      "Meow!\n"
     ]
    }
   ]
  },
  {
   "cell_type": "markdown",
   "source": [
    "3. (5б). Створіть клас, де атрибути мають різні рівні доступу. Спробуйте отримати їхні значення та опишіть результати."
   ],
   "metadata": {
    "id": "HoqSCZt1MHn5"
   }
  },
  {
   "cell_type": "code",
   "source": [
    "class DiscoverSecurity:\n",
    "    def __init__(self, public, protected, private):\n",
    "        self.public = public\n",
    "        self._protected = protected\n",
    "        self.__private = private\n",
    "\n",
    "tester = DiscoverSecurity(1, 2, 3)\n",
    "print(tester.public)\n",
    "print(tester._protected)\n",
    "print(tester.__private)"
   ],
   "metadata": {
    "id": "r9b3vJxBMSPV"
   },
   "execution_count": 8,
   "outputs": [
    {
     "name": "stdout",
     "output_type": "stream",
     "text": [
      "1\n",
      "2\n"
     ]
    },
    {
     "ename": "AttributeError",
     "evalue": "'DiscoverSecurity' object has no attribute '__private'",
     "output_type": "error",
     "traceback": [
      "\u001B[1;31m---------------------------------------------------------------------------\u001B[0m",
      "\u001B[1;31mAttributeError\u001B[0m                            Traceback (most recent call last)",
      "Cell \u001B[1;32mIn[8], line 10\u001B[0m\n\u001B[0;32m      8\u001B[0m \u001B[38;5;28mprint\u001B[39m(tester\u001B[38;5;241m.\u001B[39mpublic)\n\u001B[0;32m      9\u001B[0m \u001B[38;5;28mprint\u001B[39m(tester\u001B[38;5;241m.\u001B[39m_protected)\n\u001B[1;32m---> 10\u001B[0m \u001B[38;5;28mprint\u001B[39m(\u001B[43mtester\u001B[49m\u001B[38;5;241;43m.\u001B[39;49m\u001B[43m__private\u001B[49m)\n",
      "\u001B[1;31mAttributeError\u001B[0m: 'DiscoverSecurity' object has no attribute '__private'"
     ]
    }
   ]
  },
  {
   "cell_type": "markdown",
   "source": [
    "Як бачимо ми змогли доступитись тільки до public та protected, але не до privat. Для того щоб отримати значення private необхідно реалізувати геттер."
   ],
   "metadata": {
    "collapsed": false
   }
  },
  {
   "cell_type": "markdown",
   "source": [
    "4. (7б). Як ви розумієте термін self? Для чого використовується метод __init __?"
   ],
   "metadata": {
    "id": "5op2m2vgMSkZ"
   }
  },
  {
   "cell_type": "markdown",
   "source": [
    "Self - це посилання на даний об'єкт, щоб доступатися до атрибутів чи методів даного екземпляру. __init__ - класичний конструктор об'єкту, який використовується в різних мовах, але з іншим синтаксисом"
   ],
   "metadata": {
    "id": "DyiPqNRvMasx"
   }
  },
  {
   "cell_type": "markdown",
   "source": [
    "5. (9б). Створіть клас Фігура без атрибутів, з методом get_area для отримання площі фігури, що повертає 0 та __add __, який приймає self та other в якості аргументів, а повертає суму площин фігур self та other."
   ],
   "metadata": {
    "id": "-6X8EGfjMd2y"
   }
  },
  {
   "cell_type": "code",
   "source": [
    "class Figure:\n",
    "    def get_area(self):\n",
    "        return 0\n",
    "    def __add__(self, other):\n",
    "        return self.get_area()+other.get_area()"
   ],
   "metadata": {
    "id": "4rvO_wYUMaEr"
   },
   "execution_count": 9,
   "outputs": []
  },
  {
   "cell_type": "markdown",
   "source": [
    "6. (11б). Створіть 2 дочірніх класи від Фігури: Трикутник та Коло, які мають атрибути, необхідні для розрахунку площин. Визначте метод get_area в кожному з них так, щоби вони розраховували площу в залежності від формули для кожного типу фігури. Створіть обʼєкт класу Трикутник та обʼєкт класу Коло. Виконайте операцію суми за допомогою оператора + між ними."
   ],
   "metadata": {
    "id": "SFcKnnv5Mo_z"
   }
  },
  {
   "cell_type": "code",
   "source": [
    "import math\n",
    "\n",
    "class Triangle(Figure):\n",
    "    def __init__(self, a_len, b_len, c_len):\n",
    "        self.a_len = a_len\n",
    "        self.b_len = b_len\n",
    "        self.c_len = c_len\n",
    "\n",
    "    def get_area(self):\n",
    "        semi_p = (self.a_len+self.b_len+self.c_len)/2\n",
    "        under_sqrt = semi_p*(semi_p-self.a_len)*(semi_p-self.b_len)*(semi_p-self.b_len)\n",
    "        area = math.sqrt(under_sqrt)\n",
    "        return area\n",
    "\n",
    "class Circle(Figure):\n",
    "    def __init__(self, radius):\n",
    "        self.radius = radius\n",
    "\n",
    "    def get_area(self):\n",
    "        return math.pi*self.radius*self.radius\n",
    "\n",
    "# pi\n",
    "circle = Circle(1)\n",
    "\n",
    "# 0.4333...\n",
    "triangle = Triangle(1,1,1)\n",
    "\n",
    "result = circle+triangle\n",
    "result"
   ],
   "metadata": {
    "id": "H3GVNr69Muf3"
   },
   "execution_count": 10,
   "outputs": [
    {
     "data": {
      "text/plain": "3.5746053554820123"
     },
     "execution_count": 10,
     "metadata": {},
     "output_type": "execute_result"
    }
   ]
  },
  {
   "cell_type": "markdown",
   "source": [
    "7. (3б). Продемонструйте різницю між isinstance та issubclass."
   ],
   "metadata": {
    "id": "HCvR206YMvLK"
   }
  },
  {
   "cell_type": "code",
   "source": [
    "test_figure = Figure()\n",
    "\n",
    "print(\"test_figure is Figure: \",isinstance(test_figure, Figure))\n",
    "print(\"circle is Figure: \",isinstance(test_figure, Figure))\n",
    "print(\"Circle is subclass of Figure: \",issubclass(Circle, Figure))\n",
    "print(\"Figure is subclass of Circle: \",issubclass(Figure, Circle))\n"
   ],
   "metadata": {
    "id": "L_V1bBvDM0GN"
   },
   "execution_count": 14,
   "outputs": [
    {
     "name": "stdout",
     "output_type": "stream",
     "text": [
      "test_figure is Figure:  True\n",
      "circle is Figure:  True\n",
      "Circle is subclass of Figure:  True\n",
      "Figure is subclass of Circle:  False\n"
     ]
    }
   ]
  },
  {
   "cell_type": "markdown",
   "source": [
    "8. (13б). Створіть клас BankAccount з приватними атрибутами balance та account_number. Реалізуйте методи поповнення та зняття коштів, забезпечивши належну інкапсуляцію. Підказка: використовуйте декоратори property та setter."
   ],
   "metadata": {
    "id": "jjsaBZ-iM0Qq"
   }
  },
  {
   "cell_type": "code",
   "source": [
    "class BankAccount:\n",
    "    def __init__(self, balance, account_number):\n",
    "        self.__balance = balance\n",
    "        self.__account_number = account_number\n",
    "\n",
    "    @property\n",
    "    def balance(self):\n",
    "        return self.__balance\n",
    "\n",
    "    @balance.setter\n",
    "    def balance(self, new_balance):\n",
    "        self.__balance = new_balance\n",
    "\n",
    "\n",
    "    @property\n",
    "    def account_number(self):\n",
    "        return self.__account_number\n",
    "\n",
    "    def deposit(self, amount):\n",
    "        if amount<0:\n",
    "            print(\"Wrong amount!\")\n",
    "        else:\n",
    "            self.__balance+=amount\n",
    "            if self.__balance < 0:\n",
    "                print(\"ATTENTION! YOU USING CREDIT MONEY!\")\n",
    "            print(\"Success!\")\n",
    "\n",
    "    def withdraw(self, amount):\n",
    "        if amount<0:\n",
    "            print(\"Wrong amount!\")\n",
    "        else:\n",
    "\n",
    "            self.__balance-=amount\n",
    "            if self.__balance < 0:\n",
    "                print(\"ATTENTION! YOU USING CREDIT MONEY!\")\n",
    "            print(\"Success!\")\n",
    "\n",
    "client = BankAccount(0, 1)\n",
    "print(\"id:\", client.account_number)\n",
    "print(\"balance:\", client.balance)\n",
    "client.withdraw(1000)\n",
    "print(\"balance:\", client.balance)\n",
    "client.deposit(2000)\n",
    "print(\"balance:\", client.balance)"
   ],
   "metadata": {
    "id": "xCvZ7lh8M7YA"
   },
   "execution_count": 21,
   "outputs": [
    {
     "name": "stdout",
     "output_type": "stream",
     "text": [
      "id: 1\n",
      "balance: 0\n",
      "ATTENTION! YOU USING CREDIT MONEY!\n",
      "Success!\n",
      "balance: -1000\n",
      "Success!\n",
      "balance: 1000\n"
     ]
    }
   ]
  },
  {
   "cell_type": "markdown",
   "source": [
    "9. (11б). Створіть клас Library, який містить список об'єктів типу Book. Реалізуйте методи для додавання книги, видалення книги та відображення списку книг."
   ],
   "metadata": {
    "id": "tIzL2SJTM8ft"
   }
  },
  {
   "cell_type": "code",
   "source": [
    "class Book:\n",
    "    def __init__(self, name):\n",
    "        self.name = name\n",
    "\n",
    "class Library:\n",
    "    def __init__(self, name):\n",
    "        self._name = name\n",
    "        self.__books = []\n",
    "\n",
    "    def add_book(self, book):\n",
    "        if isinstance(book, Book):\n",
    "            print(\"Added \", book.name )\n",
    "            self.__books.append(book)\n",
    "        else:\n",
    "            print(\"You can add only books to lib\")\n",
    "\n",
    "    def remove_book(self, book):\n",
    "        for title in self.__books:\n",
    "            if title.name == book:\n",
    "                self.__books.remove(title)\n",
    "                print(title.name, \"was removed\")\n",
    "                return\n",
    "        print(\"It seems that we don't have this book\")\n",
    "\n",
    "    def show_all(self):\n",
    "        if not self.__books:\n",
    "            print(\"Sadly, we don't have any books\")\n",
    "        else:\n",
    "            for book in self.__books:\n",
    "                print(\" - \", book.name)\n",
    "\n",
    "lib = Library(\"Brovary city library\")\n",
    "lib.show_all()\n",
    "lib.add_book(Book(\"Fullmetal alchemist\"))\n",
    "lib.show_all()\n",
    "lib.remove_book(\"JoJo\")"
   ],
   "metadata": {
    "id": "HWxfJKLtNAUZ"
   },
   "execution_count": 1,
   "outputs": [
    {
     "name": "stdout",
     "output_type": "stream",
     "text": [
      "Sadly, we don't have any books\n",
      "Added  Fullmetal alchemist\n",
      " -  Fullmetal alchemist\n",
      "It seems that we don't have this book\n"
     ]
    }
   ]
  },
  {
   "cell_type": "markdown",
   "source": [
    "10. (13б). Створіть клас Person з атрибутами name та age. Створіть ще один клас Employee з такими атрибутами, як department та salary. Створіть клас Manager, який успадковує обидва класи Person та Employee. Продемонструйте використання множинної спадковості, створивши обʼєкт класу Manager та отримавши mro для цього класу."
   ],
   "metadata": {
    "id": "lmV8pAwwNIqu"
   }
  },
  {
   "cell_type": "code",
   "source": [
    "class Person:\n",
    "    def __init__(self, name, age):\n",
    "        self.name = name\n",
    "        self.age = age\n",
    "\n",
    "class Employee:\n",
    "    def __init__(self, department, salary):\n",
    "        self.department = department\n",
    "        self.salary = salary\n",
    "\n",
    "class Manager(Person, Employee):\n",
    "    def __init__(self, name, age, department, salary):\n",
    "        Person.__init__(self, name, age)\n",
    "        Employee.__init__(self, department, salary)\n",
    "\n",
    "manager = Manager(\"John\", 40, \"HR\", 60000)\n",
    "\n",
    "print(Manager.__mro__)"
   ],
   "metadata": {
    "id": "R49grKlWNPeN"
   },
   "execution_count": 5,
   "outputs": [
    {
     "name": "stdout",
     "output_type": "stream",
     "text": [
      "(<class '__main__.Manager'>, <class '__main__.Person'>, <class '__main__.Employee'>, <class 'object'>)\n"
     ]
    }
   ]
  },
  {
   "cell_type": "markdown",
   "source": [
    "# II. Iterator"
   ],
   "metadata": {
    "id": "dIJyUiNBFG8G"
   }
  },
  {
   "cell_type": "markdown",
   "source": [
    "11. (4б). Визначте рядок(str) з 4ма різними за значенням символами. Створіть ітератор на основі цього рядка. Викличте 5 разів функцію next на ітераторі, 4ри перших з них огорніть у ф-цію print()."
   ],
   "metadata": {
    "id": "13vsm0NyKIzL"
   }
  },
  {
   "cell_type": "code",
   "source": [
    "string = \"abcd\"\n",
    "sting_iter = iter(string)\n",
    "for i in range(4):\n",
    "    print(next(sting_iter))\n",
    "next(sting_iter)"
   ],
   "metadata": {
    "id": "81ntabAkKuz-"
   },
   "execution_count": 7,
   "outputs": [
    {
     "name": "stdout",
     "output_type": "stream",
     "text": [
      "a\n",
      "b\n",
      "c\n",
      "d\n"
     ]
    },
    {
     "ename": "StopIteration",
     "evalue": "",
     "output_type": "error",
     "traceback": [
      "\u001B[1;31m---------------------------------------------------------------------------\u001B[0m",
      "\u001B[1;31mStopIteration\u001B[0m                             Traceback (most recent call last)",
      "Cell \u001B[1;32mIn[7], line 5\u001B[0m\n\u001B[0;32m      3\u001B[0m \u001B[38;5;28;01mfor\u001B[39;00m i \u001B[38;5;129;01min\u001B[39;00m \u001B[38;5;28mrange\u001B[39m(\u001B[38;5;241m4\u001B[39m):\n\u001B[0;32m      4\u001B[0m     \u001B[38;5;28mprint\u001B[39m(\u001B[38;5;28mnext\u001B[39m(sting_iter))\n\u001B[1;32m----> 5\u001B[0m \u001B[38;5;28;43mnext\u001B[39;49m\u001B[43m(\u001B[49m\u001B[43msting_iter\u001B[49m\u001B[43m)\u001B[49m\n",
      "\u001B[1;31mStopIteration\u001B[0m: "
     ]
    }
   ]
  },
  {
   "cell_type": "markdown",
   "source": [
    "А що якщо викликати цю ж функцію на рядку?"
   ],
   "metadata": {
    "id": "aekWHGXOLRsO"
   }
  },
  {
   "cell_type": "code",
   "source": [
    "next(string)"
   ],
   "metadata": {
    "id": "mxATGsErLV1i"
   },
   "execution_count": 8,
   "outputs": [
    {
     "ename": "TypeError",
     "evalue": "'str' object is not an iterator",
     "output_type": "error",
     "traceback": [
      "\u001B[1;31m---------------------------------------------------------------------------\u001B[0m",
      "\u001B[1;31mTypeError\u001B[0m                                 Traceback (most recent call last)",
      "Cell \u001B[1;32mIn[8], line 1\u001B[0m\n\u001B[1;32m----> 1\u001B[0m \u001B[38;5;28;43mnext\u001B[39;49m\u001B[43m(\u001B[49m\u001B[43mstring\u001B[49m\u001B[43m)\u001B[49m\n",
      "\u001B[1;31mTypeError\u001B[0m: 'str' object is not an iterator"
     ]
    }
   ]
  },
  {
   "cell_type": "markdown",
   "source": [
    " 12. (5б). Опишіть своїми словами в одному реченні, як ви розумієте різницю між ітерабельними обʼєктами та ітераторами (можна на прикладі)."
   ],
   "metadata": {
    "id": "XwtMEopwJ4pH"
   }
  },
  {
   "cell_type": "markdown",
   "source": [
    "Якщо брати String з попереднього завдання, то він є ітерабельним об'єктом, оскільки ми можемо використати for i in String, але не є ітератором, який вміє зберігати останній стан, але не може бути ітерованим кілька разів"
   ],
   "metadata": {
    "id": "-sHrODc3KFn8"
   }
  },
  {
   "cell_type": "markdown",
   "source": [
    "13. (11б). Створіть клас, що має визначений Iterator Protocol та при кожному виклику next повертає літери англійської абетки, поки вони не вичерпаються."
   ],
   "metadata": {
    "id": "E9qJWmNbK8Gl"
   }
  },
  {
   "cell_type": "code",
   "source": [
    "class Alphabet:\n",
    "    def __init__(self):\n",
    "        self.current_state = ord('a')\n",
    "\n",
    "    def __iter__(self):\n",
    "        return self\n",
    "\n",
    "    def __next__(self):\n",
    "        if self.current_state<= ord('z'):\n",
    "            char = chr(self.current_state)\n",
    "            self.current_state += 1\n",
    "            return char\n",
    "        else:\n",
    "            raise StopIteration\n",
    "\n",
    "alphabet = Alphabet()\n",
    "\n",
    "for letter in alphabet:\n",
    "    print(letter)"
   ],
   "metadata": {
    "id": "cqx-g_RsLo6I"
   },
   "execution_count": 10,
   "outputs": [
    {
     "name": "stdout",
     "output_type": "stream",
     "text": [
      "a\n",
      "b\n",
      "c\n",
      "d\n",
      "e\n",
      "f\n",
      "g\n",
      "h\n",
      "i\n",
      "j\n",
      "k\n",
      "l\n",
      "m\n",
      "n\n",
      "o\n",
      "p\n",
      "q\n",
      "r\n",
      "s\n",
      "t\n",
      "u\n",
      "v\n",
      "w\n",
      "x\n",
      "y\n",
      "z\n"
     ]
    }
   ]
  },
  {
   "cell_type": "markdown",
   "source": [
    "# Вітаю! Ви велика(ий) молодець, що впоралась(вся). Похваліть себе та побалуйте чимось приємним. Я Вами пишаюся."
   ],
   "metadata": {
    "id": "Z3E3S_s1Fv7-"
   }
  },
  {
   "cell_type": "code",
   "execution_count": null,
   "outputs": [],
   "source": [],
   "metadata": {
    "collapsed": false
   }
  }
 ]
}
